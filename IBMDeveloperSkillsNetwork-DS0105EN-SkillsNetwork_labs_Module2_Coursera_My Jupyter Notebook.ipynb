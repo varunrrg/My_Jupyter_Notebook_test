{
  "metadata": {
    "language_info": {
      "codemirror_mode": {
        "name": "python",
        "version": 3
      },
      "file_extension": ".py",
      "mimetype": "text/x-python",
      "name": "python",
      "nbconvert_exporter": "python",
      "pygments_lexer": "ipython3",
      "version": "3.8"
    },
    "kernelspec": {
      "name": "python",
      "display_name": "Pyolite",
      "language": "python"
    }
  },
  "nbformat_minor": 4,
  "nbformat": 4,
  "cells": [
    {
      "cell_type": "markdown",
      "source": "# <center> My Jupyter Notebook on IBM Watson Studio",
      "metadata": {
        "tags": []
      }
    },
    {
      "cell_type": "markdown",
      "source": "__Varun Ghotgalkar__ <br>\nInvestment Professional",
      "metadata": {}
    },
    {
      "cell_type": "markdown",
      "source": "*I am interested in Data Science to help make effective investment decisions.*",
      "metadata": {}
    },
    {
      "cell_type": "markdown",
      "source": "### The following code calculates the sum of 1000,1000 and 23. ",
      "metadata": {}
    },
    {
      "cell_type": "code",
      "source": "1000+1000+23",
      "metadata": {
        "trusted": true
      },
      "execution_count": 4,
      "outputs": [
        {
          "execution_count": 4,
          "output_type": "execute_result",
          "data": {
            "text/plain": "2023"
          },
          "metadata": {}
        }
      ]
    },
    {
      "cell_type": "markdown",
      "source": "|Color|Link|\n|---------|:-------------|\n|<font color=blue>Blue |[<font color=blue>Click to Google Blue](http://google.com/search?q=blue)|\n|<font color=red>Red |[<font color=red>Click to Google Red](http://google.com/search?q=red)|\n|<font color=green>Green |[<font color=green>Click to Google Green](http://google.com/search?q=green)|\n|<font color=black>Black |[<font color=black>Click to Google Black](http://google.com/search?q=black)|\n|<font color=orange>Orange |[<font color=orange>Click to Google Orange](http://google.com/search?q=orange)|\n\n![colors.png](attachment:58aa6dec-4b96-4e89-a24c-2a01b7b8d95e.png)",
      "metadata": {},
      "attachments": {
        "58aa6dec-4b96-4e89-a24c-2a01b7b8d95e.png": {
          "image/png": "[encoded data removed]"
        }
      }
    },
    {
      "cell_type": "code",
      "source": "",
      "metadata": {},
      "execution_count": null,
      "outputs": []
    }
  ]
}